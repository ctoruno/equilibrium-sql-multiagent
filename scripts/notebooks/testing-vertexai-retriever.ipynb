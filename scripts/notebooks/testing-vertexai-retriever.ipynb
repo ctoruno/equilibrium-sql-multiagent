{
 "cells": [
  {
   "cell_type": "code",
   "execution_count": 2,
   "id": "34ab6b58",
   "metadata": {},
   "outputs": [],
   "source": [
    "from esma.tools.column_retriever_vertexai import ColumnRetriever"
   ]
  },
  {
   "cell_type": "code",
   "execution_count": 26,
   "id": "7076b777",
   "metadata": {},
   "outputs": [],
   "source": [
    "retriever = ColumnRetriever()\n",
    "\n",
    "query = \"pobreza\"\n",
    "database = \"enemdu\"\n",
    "tables = [\"BDDENEMDU_PERSONAS_2024_ANUAL\"]"
   ]
  },
  {
   "cell_type": "code",
   "execution_count": null,
   "id": "c29855c7",
   "metadata": {},
   "outputs": [],
   "source": [
    "result = retriever._run(\n",
    "    query=query,\n",
    "    database=database,\n",
    "    selected_tables=tables\n",
    ")\n",
    "print(result)"
   ]
  }
 ],
 "metadata": {
  "kernelspec": {
   "display_name": "esma",
   "language": "python",
   "name": "python3"
  },
  "language_info": {
   "codemirror_mode": {
    "name": "ipython",
    "version": 3
   },
   "file_extension": ".py",
   "mimetype": "text/x-python",
   "name": "python",
   "nbconvert_exporter": "python",
   "pygments_lexer": "ipython3",
   "version": "3.13.7"
  }
 },
 "nbformat": 4,
 "nbformat_minor": 5
}
