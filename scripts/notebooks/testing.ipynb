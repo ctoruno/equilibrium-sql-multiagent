{
 "cells": [
  {
   "cell_type": "code",
   "execution_count": null,
   "id": "938c078c",
   "metadata": {},
   "outputs": [],
   "source": [
    "from langchain.chat_models import init_chat_model\n",
    "\n",
    "from esma.config.settings import settings"
   ]
  },
  {
   "cell_type": "code",
   "execution_count": 11,
   "id": "50563e72",
   "metadata": {},
   "outputs": [],
   "source": [
    "llm = init_chat_model(\n",
    "    settings.default_model, \n",
    "    temperature=settings.temperature, \n",
    "    max_tokens=settings.max_tokens\n",
    ")"
   ]
  }
 ],
 "metadata": {
  "kernelspec": {
   "display_name": "equilibrium-sql-multiagent",
   "language": "python",
   "name": "python3"
  },
  "language_info": {
   "codemirror_mode": {
    "name": "ipython",
    "version": 3
   },
   "file_extension": ".py",
   "mimetype": "text/x-python",
   "name": "python",
   "nbconvert_exporter": "python",
   "pygments_lexer": "ipython3",
   "version": "3.13.7"
  }
 },
 "nbformat": 4,
 "nbformat_minor": 5
}
