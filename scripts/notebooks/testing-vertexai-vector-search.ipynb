{
 "cells": [
  {
   "cell_type": "code",
   "execution_count": 1,
   "id": "79a650d9",
   "metadata": {},
   "outputs": [],
   "source": [
    "from google import genai\n",
    "from google.cloud import aiplatform_v1\n",
    "from google.genai.types import EmbedContentConfig"
   ]
  },
  {
   "cell_type": "markdown",
   "id": "17e56ded",
   "metadata": {},
   "source": [
    "### 1. Define a query:"
   ]
  },
  {
   "cell_type": "code",
   "execution_count": null,
   "id": "adc97c80",
   "metadata": {},
   "outputs": [],
   "source": [
    "query_text = \"pobreza extrema\""
   ]
  },
  {
   "cell_type": "markdown",
   "id": "e6aa0c8e",
   "metadata": {},
   "source": [
    "### 2. Generate embedding for the query:"
   ]
  },
  {
   "cell_type": "code",
   "execution_count": null,
   "id": "f2f51c55",
   "metadata": {},
   "outputs": [],
   "source": [
    "vertex_client = genai.Client(\n",
    "    vertexai=True, \n",
    "    project=\"cosmic-abbey-470621-f6\", \n",
    "    location=\"us-east1\"\n",
    ")\n",
    "query_response = vertex_client.models.embed_content(\n",
    "    model=\"gemini-embedding-001\",\n",
    "    contents=query_text,\n",
    "    config=EmbedContentConfig(\n",
    "        task_type=\"RETRIEVAL_DOCUMENT\",\n",
    "        output_dimensionality=3072\n",
    "    )\n",
    ")\n",
    "ebs = query_response.embeddings[0].values"
   ]
  },
  {
   "cell_type": "markdown",
   "id": "af9f66dd",
   "metadata": {},
   "source": [
    "### 3. Perform similarity search with the query embedding:"
   ]
  },
  {
   "cell_type": "code",
   "execution_count": null,
   "id": "a6b22382",
   "metadata": {},
   "outputs": [],
   "source": [
    "API_ENDPOINT=\"2141955479.us-east1-514700908055.vdb.vertexai.goog\"\n",
    "INDEX_ENDPOINT=\"projects/514700908055/locations/us-east1/indexEndpoints/5723692496341434368\"\n",
    "DEPLOYED_INDEX_ID=\"geih_2024_columns_dp\"\n",
    "\n",
    "client_options = {\n",
    "  \"api_endpoint\": API_ENDPOINT\n",
    "}\n",
    "vector_search_client = aiplatform_v1.MatchServiceClient(\n",
    "  client_options=client_options,\n",
    ")\n",
    "\n",
    "# Restricts works as a filter on the indexed datapoints\n",
    "restricts = [\n",
    "    aiplatform_v1.IndexDatapoint.Restriction(\n",
    "        namespace=\"table_id\",\n",
    "        allow_list=[\"DBF_GECH_HOGARES\"]\n",
    "    )\n",
    "]\n",
    "\n",
    "datapoint = aiplatform_v1.IndexDatapoint(\n",
    "  feature_vector=ebs,\n",
    "  restricts=restricts,\n",
    ")\n",
    "query = aiplatform_v1.FindNeighborsRequest.Query(\n",
    "  datapoint=datapoint,\n",
    "  neighbor_count=15\n",
    ")\n",
    "request = aiplatform_v1.FindNeighborsRequest(\n",
    "  index_endpoint=INDEX_ENDPOINT,\n",
    "  deployed_index_id=DEPLOYED_INDEX_ID,\n",
    "  queries=[query],\n",
    "  return_full_datapoint=True,\n",
    ")\n",
    "\n",
    "response = vector_search_client.find_neighbors(request)"
   ]
  },
  {
   "cell_type": "code",
   "execution_count": null,
   "id": "34a55c49",
   "metadata": {},
   "outputs": [],
   "source": [
    "results = []\n",
    "for x in response.nearest_neighbors[0].neighbors:\n",
    "    column_name = x.datapoint.embedding_metadata.get(\"column_name\")\n",
    "    table_id = x.datapoint.embedding_metadata.get(\"table_id\")\n",
    "    text = x.datapoint.embedding_metadata.get(\"text\")\n",
    "    data_type = x.datapoint.embedding_metadata.get(\"data_type\")\n",
    "    record = f\"Column Name: {column_name} | Table ID: {table_id} | Data Type: {data_type} | Information: {text}\"\n",
    "    results.append(record)\n",
    "print(\"\\n\".join(results))"
   ]
  }
 ],
 "metadata": {
  "kernelspec": {
   "display_name": "esma",
   "language": "python",
   "name": "python3"
  },
  "language_info": {
   "codemirror_mode": {
    "name": "ipython",
    "version": 3
   },
   "file_extension": ".py",
   "mimetype": "text/x-python",
   "name": "python",
   "nbconvert_exporter": "python",
   "pygments_lexer": "ipython3",
   "version": "3.13.7"
  }
 },
 "nbformat": 4,
 "nbformat_minor": 5
}
