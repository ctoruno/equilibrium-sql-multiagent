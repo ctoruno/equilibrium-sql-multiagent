{
 "cells": [
  {
   "cell_type": "code",
   "execution_count": 1,
   "id": "79a650d9",
   "metadata": {},
   "outputs": [],
   "source": [
    "from google import genai\n",
    "from google.cloud import aiplatform_v1\n",
    "from google.genai.types import EmbedContentConfig"
   ]
  },
  {
   "cell_type": "markdown",
   "id": "17e56ded",
   "metadata": {},
   "source": [
    "### 1. Define a query:"
   ]
  },
  {
   "cell_type": "code",
   "execution_count": 2,
   "id": "adc97c80",
   "metadata": {},
   "outputs": [],
   "source": [
    "query_text = \"pobreza\""
   ]
  },
  {
   "cell_type": "markdown",
   "id": "e6aa0c8e",
   "metadata": {},
   "source": [
    "### 2. Generate embedding for the query:"
   ]
  },
  {
   "cell_type": "code",
   "execution_count": 4,
   "id": "f2f51c55",
   "metadata": {},
   "outputs": [],
   "source": [
    "vertex_client = genai.Client(\n",
    "    vertexai=True, \n",
    "    project=\"cosmic-abbey-470621-f6\", \n",
    "    location=\"us-east1\"\n",
    ")\n",
    "query_response = vertex_client.models.embed_content(\n",
    "    model=\"gemini-embedding-001\",\n",
    "    contents=query_text,\n",
    "    config=EmbedContentConfig(\n",
    "        task_type=\"RETRIEVAL_DOCUMENT\",\n",
    "        output_dimensionality=3072\n",
    "    )\n",
    ")\n",
    "ebs = query_response.embeddings[0].values"
   ]
  },
  {
   "cell_type": "markdown",
   "id": "af9f66dd",
   "metadata": {},
   "source": [
    "### 3. Perform similarity search with the query embedding:"
   ]
  },
  {
   "cell_type": "code",
   "execution_count": null,
   "id": "a6b22382",
   "metadata": {},
   "outputs": [],
   "source": [
    "API_ENDPOINT=\"1794278526.us-east1-514700908055.vdb.vertexai.goog\"\n",
    "INDEX_ENDPOINT=\"projects/514700908055/locations/us-east1/indexEndpoints/6544755003406417920\"\n",
    "DEPLOYED_INDEX_ID=\"esma_vector_search_index_columns\"\n",
    "\n",
    "client_options = {\n",
    "  \"api_endpoint\": API_ENDPOINT\n",
    "}\n",
    "vector_search_client = aiplatform_v1.MatchServiceClient(\n",
    "  client_options=client_options,\n",
    ")\n",
    "\n",
    "# Restricts works as a filter on the indexed datapoints\n",
    "restricts = [\n",
    "    aiplatform_v1.IndexDatapoint.Restriction(\n",
    "        namespace=\"database\",\n",
    "        allow_list=[\"enemdu-2024\"]\n",
    "    ),\n",
    "    aiplatform_v1.IndexDatapoint.Restriction(\n",
    "        namespace=\"table_id\",\n",
    "        allow_list=[\"INGREFAM_EPHC_ANUAL_2024\"]\n",
    "    )\n",
    "]\n",
    "\n",
    "datapoint = aiplatform_v1.IndexDatapoint(\n",
    "  feature_vector=ebs,\n",
    "  restricts=restricts,\n",
    ")\n",
    "query = aiplatform_v1.FindNeighborsRequest.Query(\n",
    "  datapoint=datapoint,\n",
    "  neighbor_count=15\n",
    ")\n",
    "request = aiplatform_v1.FindNeighborsRequest(\n",
    "  index_endpoint=INDEX_ENDPOINT,\n",
    "  deployed_index_id=DEPLOYED_INDEX_ID,\n",
    "  queries=[query],\n",
    "  return_full_datapoint=True,\n",
    ")\n",
    "\n",
    "response = vector_search_client.find_neighbors(request)"
   ]
  },
  {
   "cell_type": "code",
   "execution_count": 6,
   "id": "34a55c49",
   "metadata": {},
   "outputs": [
    {
     "name": "stdout",
     "output_type": "stream",
     "text": [
      "Column Name: POBREZA | Table ID: BDDENEMDU_PERSONAS_2024_ANUAL | Data Type: NUMERIC | Information: Pobreza | Poverty status | Values: 0=NO POBRE, 1=POBRE\n",
      "Column Name: EPOBREZA | Table ID: BDDENEMDU_PERSONAS_2024_ANUAL | Data Type: NUMERIC | Information: Pobreza extrema | Extreme poverty status | Values: 0=NO INDIGENTE, 1=INDIGENTE\n",
      "Column Name: INGPC | Table ID: BDDENEMDU_PERSONAS_2024_ANUAL | Data Type: NUMERIC | Information: Ingreso por cápita | Per capita income\n",
      "Column Name: DESEMPLEO | Table ID: BDDENEMDU_PERSONAS_2024_ANUAL | Data Type: NUMERIC | Information: Población con desempleo | Unemployed population indicator | Values: 1=Población con desempleo\n",
      "Column Name: SD028 | Table ID: BDDENEMDU_PERSONAS_2024_ANUAL | Data Type: NUMERIC | Information: La semana pasada que no tenía trabajo - Ayudó en algún | Last week when had no job - Helped in some | Values: 1=Si, 2=No\n",
      "Column Name: P44A | Table ID: BDDENEMDU_PERSONAS_2024_ANUAL | Data Type: NUMERIC | Information: Recibe alimentación | Receives food as benefit | Values: 1=Si, 2=No\n",
      "Column Name: SD025 | Table ID: BDDENEMDU_PERSONAS_2024_ANUAL | Data Type: NUMERIC | Information: La semana pasada que no tenía trabajo - Ayudó como | Last week when had no job - Helped as | Values: 1=Si, 2=No\n",
      "Column Name: ID_HOGAR | Table ID: BDDENEMDU_PERSONAS_2024_ANUAL | Data Type: CHARACTER | Information: Identificador de hogar | Household unique identifier\n",
      "Column Name: ID_HOGAR | Table ID: BDDENEMDU_VIVIENDA_2024_ANUAL | Data Type: CHARACTER | Information: Identificador de hogar | Household unique identifier\n",
      "Column Name: INGRL | Table ID: BDDENEMDU_PERSONAS_2024_ANUAL | Data Type: NUMERIC | Information: Ingreso Laboral | Labor income | Values: -1=Gasta mas de lo que gana, 999999=No informa\n",
      "Column Name: P75 | Table ID: BDDENEMDU_PERSONAS_2024_ANUAL | Data Type: NUMERIC | Information: Recibió el BONO DE DESARROLLO HUMANO | Received Human Development Bond | Values: 1=Si, 2=No\n",
      "Column Name: EMPLEO | Table ID: BDDENEMDU_PERSONAS_2024_ANUAL | Data Type: NUMERIC | Information: Población con empleo | Employed population indicator | Values: 1=Población con empleo\n",
      "Column Name: P44B | Table ID: BDDENEMDU_PERSONAS_2024_ANUAL | Data Type: NUMERIC | Information: Recibe vivienda | Receives housing as benefit | Values: 1=Si, 2=No\n",
      "Column Name: P67 | Table ID: BDDENEMDU_PERSONAS_2024_ANUAL | Data Type: NUMERIC | Information: Descuentos de asalariados | Deductions from salary\n",
      "Column Name: P68B | Table ID: BDDENEMDU_PERSONAS_2024_ANUAL | Data Type: NUMERIC | Information: Ingreso en especies de asalariados | Income in kind for salaried workers\n"
     ]
    }
   ],
   "source": [
    "results = []\n",
    "for x in response.nearest_neighbors[0].neighbors:\n",
    "    column_name = x.datapoint.embedding_metadata.get(\"column_name\")\n",
    "    table_id = x.datapoint.embedding_metadata.get(\"table_id\")\n",
    "    text = x.datapoint.embedding_metadata.get(\"text\")\n",
    "    data_type = x.datapoint.embedding_metadata.get(\"data_type\")\n",
    "    record = f\"Column Name: {column_name} | Table ID: {table_id} | Data Type: {data_type} | Information: {text}\"\n",
    "    results.append(record)\n",
    "print(\"\\n\".join(results))"
   ]
  }
 ],
 "metadata": {
  "kernelspec": {
   "display_name": "esma",
   "language": "python",
   "name": "python3"
  },
  "language_info": {
   "codemirror_mode": {
    "name": "ipython",
    "version": 3
   },
   "file_extension": ".py",
   "mimetype": "text/x-python",
   "name": "python",
   "nbconvert_exporter": "python",
   "pygments_lexer": "ipython3",
   "version": "3.13.7"
  }
 },
 "nbformat": 4,
 "nbformat_minor": 5
}
