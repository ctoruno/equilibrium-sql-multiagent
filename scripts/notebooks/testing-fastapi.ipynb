{
 "cells": [
  {
   "cell_type": "markdown",
   "id": "a5aa5baa",
   "metadata": {},
   "source": [
    "# FastAPI Application Testing\n",
    "\n",
    "## 1. Local Testing\n",
    "\n",
    "Uvicorn running on http://0.0.0.0:8000"
   ]
  },
  {
   "cell_type": "code",
   "execution_count": 1,
   "id": "b34c68e2",
   "metadata": {},
   "outputs": [],
   "source": [
    "import requests\n",
    "import json\n",
    "import httpx"
   ]
  },
  {
   "cell_type": "code",
   "execution_count": null,
   "id": "c3a7d22d",
   "metadata": {},
   "outputs": [],
   "source": [
    "response = requests.post(\n",
    "    \"http://localhost:8000/chat\",\n",
    "    json={\"message\": \"Show me the tables available in ENAHO database\"}\n",
    ")\n",
    "data = response.json()\n",
    "print(f\"Response: {data['response']}\")\n",
    "print(f\"Thread ID: {data['thread_id']}\")"
   ]
  },
  {
   "cell_type": "code",
   "execution_count": 3,
   "id": "fb06a2d3",
   "metadata": {},
   "outputs": [],
   "source": [
    "response = requests.post(\n",
    "    \"http://localhost:8000/chat\",\n",
    "    json={\n",
    "        \"message\": \"What columns are in the first table?\",\n",
    "        \"thread_id\": data['thread_id']\n",
    "    }\n",
    ")"
   ]
  },
  {
   "cell_type": "code",
   "execution_count": null,
   "id": "d3d9d4b0",
   "metadata": {},
   "outputs": [],
   "source": [
    "data = response.json()\n",
    "print(f\"Response: {data['response']}\")\n",
    "print(f\"Thread ID: {data['thread_id']}\")"
   ]
  },
  {
   "cell_type": "code",
   "execution_count": null,
   "id": "5481aaf0",
   "metadata": {},
   "outputs": [],
   "source": [
    "url = \"http://localhost:8000/chat/stream\"\n",
    "payload = {\n",
    "    \"message\": \"De acuerdo a la GEIH, ¿qué porcentaje de hogares pagan por alquiler de su vivienda? Desagregado por departamento\",\n",
    "    \"thread_id\": \"user-session-790\"\n",
    "}\n",
    "\n",
    "async with httpx.AsyncClient(timeout=None) as client:\n",
    "    async with client.stream(\"POST\", url, json=payload) as response:       \n",
    "        full_text = \"\"\n",
    "        async for line in response.aiter_lines():\n",
    "            if line.startswith(\"data: \"):\n",
    "                content = line[len(\"data: \"):].strip()\n",
    "                content = eval(content)[\"content\"]\n",
    "                full_text += content\n",
    "                print(content, end=\"\", flush=True)\n",
    "        \n",
    "        print(\"\\n\\nFull response:\", full_text)"
   ]
  },
  {
   "cell_type": "markdown",
   "id": "e7ffd3cb",
   "metadata": {},
   "source": [
    "## 2. Cloud Run Testing\n",
    "\n",
    "Docker Container running uvicorn at <BASE_URL>"
   ]
  },
  {
   "cell_type": "code",
   "execution_count": 1,
   "id": "a39d6bab",
   "metadata": {},
   "outputs": [],
   "source": [
    "BASE_URL = \"https://esma-agent-514700908055.us-east1.run.app\""
   ]
  },
  {
   "cell_type": "code",
   "execution_count": 4,
   "id": "1e56e8ea",
   "metadata": {},
   "outputs": [
    {
     "name": "stdout",
     "output_type": "stream",
     "text": [
      "Testing root endpoint...\n",
      "{\n",
      "  \"name\": \"ESMA SQL Agent API\",\n",
      "  \"endpoints\": {\n",
      "    \"/chat\": \"Non-streaming chat (POST)\",\n",
      "    \"/chat/stream\": \"Streaming chat with SSE (POST)\",\n",
      "    \"/thread/new\": \"Create new conversation thread (POST)\",\n",
      "    \"/docs\": \"Interactive API documentation\"\n",
      "  }\n",
      "}\n"
     ]
    }
   ],
   "source": [
    "# Test basic connectivity\n",
    "print(\"Testing root endpoint...\")\n",
    "response = requests.get(f\"{BASE_URL}/\")\n",
    "print(json.dumps(response.json(), indent=2))"
   ]
  },
  {
   "cell_type": "code",
   "execution_count": 5,
   "id": "e7d3eec2",
   "metadata": {},
   "outputs": [
    {
     "name": "stdout",
     "output_type": "stream",
     "text": [
      "\n",
      "\n",
      "Testing chat endpoint...\n",
      "Thread ID: esma-chat-fd4dc9b3-91cb-4ee9-9823-c8e269c788be\n",
      "Response preview: Of course! Here are the tables available in the ENAHO 2024 database, along with a brief description of each:\n",
      "\n",
      "### Housing and Household Characteristics\n",
      "*   **ENAHO01-2024-100 (Características de la Vivienda y del Hogar):** Contains data on housing conditions, access to basic services, and household assets.\n",
      "*   **ENAHO01-2024-601 (Gastos del Hogar):** Detailed information on household expenditures, including food and non-food items.\n",
      "*   **ENAHO01-2024-603 (Mantenimiento de la Vivienda):** Covers ...\n"
     ]
    }
   ],
   "source": [
    "# Test a simple query\n",
    "print(\"\\n\\nTesting chat endpoint...\")\n",
    "response = requests.post(\n",
    "    f\"{BASE_URL}/chat\",\n",
    "    json={\"message\": \"List the tables available in ENAHO\"}\n",
    ")\n",
    "result = response.json()\n",
    "print(f\"Thread ID: {result.get('thread_id')}\")\n",
    "print(f\"Response preview: {result.get('response', 'No response')[:500]}...\")"
   ]
  }
 ],
 "metadata": {
  "kernelspec": {
   "display_name": "esma",
   "language": "python",
   "name": "python3"
  },
  "language_info": {
   "codemirror_mode": {
    "name": "ipython",
    "version": 3
   },
   "file_extension": ".py",
   "mimetype": "text/x-python",
   "name": "python",
   "nbconvert_exporter": "python",
   "pygments_lexer": "ipython3",
   "version": "3.13.7"
  }
 },
 "nbformat": 4,
 "nbformat_minor": 5
}
