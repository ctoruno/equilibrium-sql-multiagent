{
 "cells": [
  {
   "cell_type": "markdown",
   "id": "a5aa5baa",
   "metadata": {},
   "source": [
    "## Local Testing"
   ]
  },
  {
   "cell_type": "code",
   "execution_count": null,
   "id": "b34c68e2",
   "metadata": {},
   "outputs": [],
   "source": [
    "import requests\n",
    "import json\n",
    "import httpx"
   ]
  },
  {
   "cell_type": "code",
   "execution_count": null,
   "id": "c3a7d22d",
   "metadata": {},
   "outputs": [],
   "source": [
    "response = requests.post(\n",
    "    \"http://localhost:8000/chat\",\n",
    "    json={\"message\": \"Show me the tables available in ENAHO database\"}\n",
    ")\n",
    "data = response.json()\n",
    "print(f\"Response: {data['response']}\")\n",
    "print(f\"Thread ID: {data['thread_id']}\")"
   ]
  },
  {
   "cell_type": "code",
   "execution_count": 10,
   "id": "fb06a2d3",
   "metadata": {},
   "outputs": [],
   "source": [
    "response = requests.post(\n",
    "    \"http://localhost:8000/chat\",\n",
    "    json={\n",
    "        \"message\": \"What columns are in the first table?\",\n",
    "        \"thread_id\": data['thread_id']\n",
    "    }\n",
    ")"
   ]
  },
  {
   "cell_type": "code",
   "execution_count": null,
   "id": "d3d9d4b0",
   "metadata": {},
   "outputs": [],
   "source": [
    "data = response.json()\n",
    "print(f\"Response: {data['response']}\")\n",
    "print(f\"Thread ID: {data['thread_id']}\")"
   ]
  },
  {
   "cell_type": "code",
   "execution_count": null,
   "id": "5481aaf0",
   "metadata": {},
   "outputs": [],
   "source": [
    "url = \"http://localhost:8000/chat/stream\"\n",
    "payload = {\n",
    "    \"message\": \"De acuerdo a la GEIH, ¿qué porcentaje de hogares pagan por alquiler de su vivienda? Desagregado por departamento\",\n",
    "    \"thread_id\": \"user-session-790\"\n",
    "}\n",
    "\n",
    "async with httpx.AsyncClient(timeout=None) as client:\n",
    "    async with client.stream(\"POST\", url, json=payload) as response:       \n",
    "        full_text = \"\"\n",
    "        async for line in response.aiter_lines():\n",
    "            if line.startswith(\"data: \"):\n",
    "                content = line[len(\"data: \"):].strip()\n",
    "                content = eval(content)[\"content\"]\n",
    "                full_text += content\n",
    "                print(content, end=\"\", flush=True)\n",
    "        \n",
    "        print(\"\\n\\nFull response:\", full_text)"
   ]
  },
  {
   "cell_type": "markdown",
   "id": "e7ffd3cb",
   "metadata": {},
   "source": [
    "## Cloud Run Testing"
   ]
  },
  {
   "cell_type": "code",
   "execution_count": null,
   "id": "a39d6bab",
   "metadata": {},
   "outputs": [],
   "source": [
    "BASE_URL = \"https://esma-agent-514700908055.us-east1.run.app\""
   ]
  },
  {
   "cell_type": "code",
   "execution_count": null,
   "id": "1e56e8ea",
   "metadata": {},
   "outputs": [],
   "source": [
    "# Test basic connectivity\n",
    "print(\"Testing root endpoint...\")\n",
    "response = requests.get(f\"{BASE_URL}/\")\n",
    "print(json.dumps(response.json(), indent=2))"
   ]
  },
  {
   "cell_type": "code",
   "execution_count": null,
   "id": "e7d3eec2",
   "metadata": {},
   "outputs": [],
   "source": [
    "# Test a simple query\n",
    "print(\"\\n\\nTesting chat endpoint...\")\n",
    "response = requests.post(\n",
    "    f\"{BASE_URL}/chat\",\n",
    "    json={\"message\": \"List the tables available in ENAHO\"}\n",
    ")\n",
    "result = response.json()\n",
    "print(f\"Thread ID: {result.get('thread_id')}\")\n",
    "print(f\"Response preview: {result.get('response', 'No response')[:500]}...\")"
   ]
  }
 ],
 "metadata": {
  "kernelspec": {
   "display_name": "esma",
   "language": "python",
   "name": "python3"
  },
  "language_info": {
   "codemirror_mode": {
    "name": "ipython",
    "version": 3
   },
   "file_extension": ".py",
   "mimetype": "text/x-python",
   "name": "python",
   "nbconvert_exporter": "python",
   "pygments_lexer": "ipython3",
   "version": "3.13.7"
  }
 },
 "nbformat": 4,
 "nbformat_minor": 5
}
