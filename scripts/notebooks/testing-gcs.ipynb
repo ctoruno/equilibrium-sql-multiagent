{
 "cells": [
  {
   "cell_type": "code",
   "execution_count": 13,
   "id": "3ab9d1ee",
   "metadata": {},
   "outputs": [
    {
     "data": {
      "text/plain": [
       "True"
      ]
     },
     "execution_count": 13,
     "metadata": {},
     "output_type": "execute_result"
    }
   ],
   "source": [
    "import os\n",
    "import io\n",
    "import pandas as pd\n",
    "from google.cloud import storage\n",
    "from google.cloud import bigquery\n",
    "from dotenv import load_dotenv\n",
    "\n",
    "load_dotenv()"
   ]
  },
  {
   "cell_type": "code",
   "execution_count": 9,
   "id": "2d690bb9",
   "metadata": {},
   "outputs": [
    {
     "name": "stdout",
     "output_type": "stream",
     "text": [
      "sql-multiagent-enaho-2024\n",
      "sql-multiagent-geih-2024\n"
     ]
    }
   ],
   "source": [
    "gcs_client = storage.Client()\n",
    "buckets = gcs_client.list_buckets()\n",
    "for bucket in buckets:\n",
    "    print(bucket.name)"
   ]
  },
  {
   "cell_type": "code",
   "execution_count": 11,
   "id": "f3b8a760",
   "metadata": {},
   "outputs": [
    {
     "data": {
      "text/plain": [
       "['data/Enaho01-2024-100.dta']"
      ]
     },
     "execution_count": 11,
     "metadata": {},
     "output_type": "execute_result"
    }
   ],
   "source": [
    "bucket = gcs_client.bucket(\"sql-multiagent-enaho-2024\")\n",
    "blobs = bucket.list_blobs(prefix=\"data/\")\n",
    "files = []\n",
    "for blob in blobs:\n",
    "    if blob.name.lower().endswith('.dta'):\n",
    "        files.append(blob.name)\n",
    "files"
   ]
  },
  {
   "cell_type": "code",
   "execution_count": 17,
   "id": "1e9cd3df",
   "metadata": {},
   "outputs": [],
   "source": [
    "blob = bucket.blob(files[0])\n",
    "data = blob.download_as_bytes()\n",
    "df = pd.read_stata(io.BytesIO(data), convert_categoricals=False, preserve_dtypes=True)\n",
    "df = df.convert_dtypes()"
   ]
  },
  {
   "cell_type": "code",
   "execution_count": null,
   "id": "c73ff391",
   "metadata": {},
   "outputs": [],
   "source": [
    "client = bigquery.Client()\n",
    "datasets = list(client.list_datasets())\n",
    "print(f\"Datasets in project: {[d.dataset_id for d in datasets]}\")"
   ]
  }
 ],
 "metadata": {
  "kernelspec": {
   "display_name": "equilibrium-sql-multiagent",
   "language": "python",
   "name": "python3"
  },
  "language_info": {
   "codemirror_mode": {
    "name": "ipython",
    "version": 3
   },
   "file_extension": ".py",
   "mimetype": "text/x-python",
   "name": "python",
   "nbconvert_exporter": "python",
   "pygments_lexer": "ipython3",
   "version": "3.13.7"
  }
 },
 "nbformat": 4,
 "nbformat_minor": 5
}
