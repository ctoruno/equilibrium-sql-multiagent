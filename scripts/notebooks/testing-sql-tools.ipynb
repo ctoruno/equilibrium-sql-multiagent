{
 "cells": [
  {
   "cell_type": "code",
   "execution_count": 1,
   "id": "8d97bf86",
   "metadata": {},
   "outputs": [],
   "source": [
    "from langchain.chat_models import init_chat_model\n",
    "llm = init_chat_model(\"google_vertexai:gemini-2.5-pro\")"
   ]
  },
  {
   "cell_type": "code",
   "execution_count": 2,
   "id": "0ad86382",
   "metadata": {},
   "outputs": [
    {
     "data": {
      "text/plain": [
       "True"
      ]
     },
     "execution_count": 2,
     "metadata": {},
     "output_type": "execute_result"
    }
   ],
   "source": [
    "from dotenv import load_dotenv\n",
    "load_dotenv()"
   ]
  },
  {
   "cell_type": "code",
   "execution_count": 6,
   "id": "222b3ca5",
   "metadata": {},
   "outputs": [],
   "source": [
    "import os\n",
    "from sqlalchemy import create_engine\n",
    "\n",
    "connection_string = \"bigquery://cosmic-abbey-470621-f6\"\n",
    "engine = create_engine(\n",
    "    connection_string,\n",
    "    credentials_path=os.getenv(\"GOOGLE_APPLICATION_CREDENTIALS\"),\n",
    ")"
   ]
  },
  {
   "cell_type": "code",
   "execution_count": 7,
   "id": "a286c40a",
   "metadata": {},
   "outputs": [],
   "source": [
    "from langchain_community.utilities import SQLDatabase\n",
    "\n",
    "db = SQLDatabase(engine)"
   ]
  },
  {
   "cell_type": "code",
   "execution_count": 8,
   "id": "ce6a5f4d",
   "metadata": {},
   "outputs": [
    {
     "name": "stdout",
     "output_type": "stream",
     "text": [
      "sql_db_query: Input to this tool is a detailed and correct SQL query, output is a result from the database. If the query is not correct, an error message will be returned. If an error is returned, rewrite the query, check the query, and try again. If you encounter an issue with Unknown column 'xxxx' in 'field list', use sql_db_schema to query the correct table fields.\n",
      "\n",
      "sql_db_schema: Input to this tool is a comma-separated list of tables, output is the schema and sample rows for those tables. Be sure that the tables actually exist by calling sql_db_list_tables first! Example Input: table1, table2, table3\n",
      "\n",
      "sql_db_list_tables: Input is an empty string, output is a comma-separated list of tables in the database.\n",
      "\n",
      "sql_db_query_checker: Use this tool to double check if your query is correct before executing it. Always use this tool before executing a query with sql_db_query!\n",
      "\n"
     ]
    }
   ],
   "source": [
    "from langchain_community.agent_toolkits import SQLDatabaseToolkit\n",
    "\n",
    "toolkit = SQLDatabaseToolkit(db=db, llm=llm)\n",
    "sql_tools = [\n",
    "    tool for tool in toolkit.get_tools() \n",
    "    # if tool.name in [\"sql_db_schema\", \"sql_db_query_checker\"]\n",
    "]\n",
    "for tool in sql_tools:\n",
    "    print(f\"{tool.name}: {tool.description}\\n\")"
   ]
  },
  {
   "cell_type": "code",
   "execution_count": 10,
   "id": "3168904c",
   "metadata": {},
   "outputs": [
    {
     "data": {
      "text/plain": [
       "'enaho_2024.ENAHO01-2024-100, enaho_2024.ENAHO01-2024-200, enaho_2024.ENAHO01-2024-601, enaho_2024.ENAHO01-2024-603, enaho_2024.ENAHO01-2024-604, enaho_2024.ENAHO01-2024-605, enaho_2024.ENAHO01-2024-609, enaho_2024.ENAHO01-2024-612, enaho_2024.ENAHO01A-2024-300, enaho_2024.ENAHO01A-2024-400, enaho_2024.ENAHO01A-2024-500, geih_2024.DBF_GECH_45_21, geih_2024.DBF_GECH_6_10, geih_2024.DBF_GECH_6_13, geih_2024.DBF_GECH_6_234, geih_2024.DBF_GECH_6_5, geih_2024.DBF_GECH_6_67, geih_2024.DBF_GECH_6_8, geih_2024.DBF_GECH_6_9'"
      ]
     },
     "execution_count": 10,
     "metadata": {},
     "output_type": "execute_result"
    }
   ],
   "source": [
    "sql_tools[2].invoke(\"\")"
   ]
  }
 ],
 "metadata": {
  "kernelspec": {
   "display_name": "esma",
   "language": "python",
   "name": "python3"
  },
  "language_info": {
   "codemirror_mode": {
    "name": "ipython",
    "version": 3
   },
   "file_extension": ".py",
   "mimetype": "text/x-python",
   "name": "python",
   "nbconvert_exporter": "python",
   "pygments_lexer": "ipython3",
   "version": "3.13.7"
  }
 },
 "nbformat": 4,
 "nbformat_minor": 5
}
