{
 "cells": [
  {
   "cell_type": "code",
   "execution_count": 1,
   "id": "8d97bf86",
   "metadata": {},
   "outputs": [],
   "source": [
    "from langchain.chat_models import init_chat_model\n",
    "llm = init_chat_model(\"openai:gpt-5\")"
   ]
  },
  {
   "cell_type": "code",
   "execution_count": 2,
   "id": "0ad86382",
   "metadata": {},
   "outputs": [
    {
     "data": {
      "text/plain": [
       "True"
      ]
     },
     "execution_count": 2,
     "metadata": {},
     "output_type": "execute_result"
    }
   ],
   "source": [
    "from dotenv import load_dotenv\n",
    "load_dotenv()"
   ]
  },
  {
   "cell_type": "code",
   "execution_count": 4,
   "id": "222b3ca5",
   "metadata": {},
   "outputs": [],
   "source": [
    "import os\n",
    "from sqlalchemy import create_engine\n",
    "\n",
    "connection_string = \"bigquery://cosmic-abbey-470621-f6/enaho_2024\"\n",
    "engine = create_engine(\n",
    "    connection_string,\n",
    "    credentials_path=os.getenv(\"GOOGLE_APPLICATION_CREDENTIALS\"),\n",
    ")"
   ]
  },
  {
   "cell_type": "code",
   "execution_count": 5,
   "id": "a286c40a",
   "metadata": {},
   "outputs": [],
   "source": [
    "from langchain_community.utilities import SQLDatabase\n",
    "\n",
    "db = SQLDatabase(engine)"
   ]
  },
  {
   "cell_type": "code",
   "execution_count": 24,
   "id": "ce6a5f4d",
   "metadata": {},
   "outputs": [
    {
     "name": "stdout",
     "output_type": "stream",
     "text": [
      "sql_db_query: Input to this tool is a detailed and correct SQL query, output is a result from the database. If the query is not correct, an error message will be returned. If an error is returned, rewrite the query, check the query, and try again. If you encounter an issue with Unknown column 'xxxx' in 'field list', use sql_db_schema to query the correct table fields.\n",
      "\n",
      "sql_db_schema: Input to this tool is a comma-separated list of tables, output is the schema and sample rows for those tables. Be sure that the tables actually exist by calling sql_db_list_tables first! Example Input: table1, table2, table3\n",
      "\n",
      "sql_db_list_tables: Input is an empty string, output is a comma-separated list of tables in the database.\n",
      "\n",
      "sql_db_query_checker: Use this tool to double check if your query is correct before executing it. Always use this tool before executing a query with sql_db_query!\n",
      "\n"
     ]
    }
   ],
   "source": [
    "from langchain_community.agent_toolkits import SQLDatabaseToolkit\n",
    "\n",
    "toolkit = SQLDatabaseToolkit(db=db, llm=llm)\n",
    "sql_tools = [\n",
    "    tool for tool in toolkit.get_tools() \n",
    "    # if tool.name in [\"sql_db_schema\", \"sql_db_query_checker\"]\n",
    "]\n",
    "for tool in sql_tools:\n",
    "    print(f\"{tool.name}: {tool.description}\\n\")"
   ]
  },
  {
   "cell_type": "code",
   "execution_count": 23,
   "id": "3168904c",
   "metadata": {},
   "outputs": [
    {
     "data": {
      "text/plain": [
       "'\\nCREATE TABLE `ENAHO01-2024-100` (\\n\\t`ANO` STRING, \\n\\t`MES` STRING, \\n\\t`CONGLOME` STRING, \\n\\t`VIVIENDA` STRING, \\n\\t`HOGAR` STRING, \\n\\t`UBIGEO` STRING, \\n\\t`DOMINIO` INT64, \\n\\t`ESTRATO` INT64, \\n\\t`PERIODO` INT64, \\n\\t`TIPENC` INT64, \\n\\t`FECENT` INT64, \\n\\t`RESULT` INT64, \\n\\t`PANEL` INT64, \\n\\t`P22` INT64, \\n\\t`P23` STRING, \\n\\t`P24A` INT64, \\n\\t`P24B` INT64, \\n\\t`P25_1` INT64, \\n\\t`P25_2` INT64, \\n\\t`P25_3` INT64, \\n\\t`P25_4` INT64, \\n\\t`P25_5` INT64, \\n\\t`P101` INT64, \\n\\t`P102` INT64, \\n\\t`P103` INT64, \\n\\t`P103A` INT64, \\n\\t`P104` INT64, \\n\\t`P104A` INT64, \\n\\t`P104B1` INT64, \\n\\t`P104B2` INT64, \\n\\t`P105A` INT64, \\n\\t`P105B` INT64, \\n\\t`P106` INT64, \\n\\t`P106A` INT64, \\n\\t`P106B` INT64, \\n\\t`P107B1` INT64, \\n\\t`P107C11` INT64, \\n\\t`P107C12` INT64, \\n\\t`P107C13` INT64, \\n\\t`P107C14` INT64, \\n\\t`P107C16` INT64, \\n\\t`P107C17` INT64, \\n\\t`P107C18` INT64, \\n\\t`P107C19` INT64, \\n\\t`P107C110` INT64, \\n\\t`P107D1` INT64, \\n\\t`P107B2` INT64, \\n\\t`P107C21` INT64, \\n\\t`P107C22` INT64, \\n\\t`P107C23` INT64, \\n\\t`P107C24` INT64, \\n\\t`P107C26` INT64, \\n\\t`P107C27` INT64, \\n\\t`P107C28` INT64, \\n\\t`P107C29` INT64, \\n\\t`P107C210` INT64, \\n\\t`P107D2` INT64, \\n\\t`P107B3` INT64, \\n\\t`P107C31` INT64, \\n\\t`P107C32` INT64, \\n\\t`P107C33` INT64, \\n\\t`P107C34` INT64, \\n\\t`P107C36` INT64, \\n\\t`P107C37` INT64, \\n\\t`P107C38` INT64, \\n\\t`P107C39` INT64, \\n\\t`P107C310` INT64, \\n\\t`P107D3` INT64, \\n\\t`P107B4` INT64, \\n\\t`P107C41` INT64, \\n\\t`P107C42` INT64, \\n\\t`P107C43` INT64, \\n\\t`P107C44` INT64, \\n\\t`P107C46` INT64, \\n\\t`P107C47` INT64, \\n\\t`P107C48` INT64, \\n\\t`P107C49` INT64, \\n\\t`P107C410` INT64, \\n\\t`P107D4` INT64, \\n\\t`P107E` INT64, \\n\\t`P110` INT64, \\n\\t`P110A1` INT64, \\n\\t`P110A` INT64, \\n\\t`P110A_MODIFICADA` FLOAT64, \\n\\t`P110C` INT64, \\n\\t`P110C1` INT64, \\n\\t`P110C2` INT64, \\n\\t`P110C3` INT64, \\n\\t`P110D` INT64, \\n\\t`P110E` INT64, \\n\\t`P110F` INT64, \\n\\t`P110G` INT64, \\n\\t`P111A` INT64, \\n\\t`P1121` INT64, \\n\\t`P1123` INT64, \\n\\t`P1124` INT64, \\n\\t`P1125` INT64, \\n\\t`P1126` INT64, \\n\\t`P1127` INT64, \\n\\t`P112A` INT64, \\n\\t`P1131` INT64, \\n\\t`P1132` INT64, \\n\\t`P1133` INT64, \\n\\t`P1135` INT64, \\n\\t`P1136` INT64, \\n\\t`P1139` INT64, \\n\\t`P1137` INT64, \\n\\t`P1138` INT64, \\n\\t`P113A` INT64, \\n\\t`P1141` INT64, \\n\\t`P1142` INT64, \\n\\t`P1143` INT64, \\n\\t`P1144` INT64, \\n\\t`P1145` INT64, \\n\\t`P114B1` INT64, \\n\\t`P114B2` INT64, \\n\\t`P114B3` INT64, \\n\\t`P1171_01` INT64, \\n\\t`P1171_02` INT64, \\n\\t`P1171_04` INT64, \\n\\t`P1171_05` INT64, \\n\\t`P1171_06` INT64, \\n\\t`P1171_07` INT64, \\n\\t`P1171_08` INT64, \\n\\t`P1171_09` INT64, \\n\\t`P1171_10` INT64, \\n\\t`P1171_11` INT64, \\n\\t`P1171_12` INT64, \\n\\t`P1171_13` INT64, \\n\\t`P1171_14` INT64, \\n\\t`P1171_15` INT64, \\n\\t`P1171_16` INT64, \\n\\t`P1171_17` INT64, \\n\\t`P1172_01` INT64, \\n\\t`P1172_02` INT64, \\n\\t`P1172_04` INT64, \\n\\t`P1172_05` INT64, \\n\\t`P1172_06` INT64, \\n\\t`P1172_07` INT64, \\n\\t`P1172_08` INT64, \\n\\t`P1172_09` INT64, \\n\\t`P1172_10` INT64, \\n\\t`P1172_11` INT64, \\n\\t`P1172_12` INT64, \\n\\t`P1172_13` INT64, \\n\\t`P1172_14` INT64, \\n\\t`P1172_15` INT64, \\n\\t`P1172_16` INT64, \\n\\t`P1172_17` INT64, \\n\\t`P1173_01` INT64, \\n\\t`P1173_02` INT64, \\n\\t`P1173_04` INT64, \\n\\t`P1173_05` INT64, \\n\\t`P1173_06` INT64, \\n\\t`P1173_07` INT64, \\n\\t`P1173_08` INT64, \\n\\t`P1173_09` INT64, \\n\\t`P1173_10` INT64, \\n\\t`P1173_11` INT64, \\n\\t`P1173_12` INT64, \\n\\t`P1173_13` INT64, \\n\\t`P1173_14` INT64, \\n\\t`P1173_15` INT64, \\n\\t`P1173_16` INT64, \\n\\t`P1173_17` INT64, \\n\\t`P1174_01` INT64, \\n\\t`P1174_02` INT64, \\n\\t`P1174_04` INT64, \\n\\t`P1174_05` INT64, \\n\\t`P1174_06` INT64, \\n\\t`P1174_07` INT64, \\n\\t`P1174_08` INT64, \\n\\t`P1174_09` INT64, \\n\\t`P1174_10` INT64, \\n\\t`P1174_11` INT64, \\n\\t`P1174_12` INT64, \\n\\t`P1174_13` INT64, \\n\\t`P1174_14` INT64, \\n\\t`P1174_15` INT64, \\n\\t`P1174_16` INT64, \\n\\t`P1174_17` INT64, \\n\\t`P1175_01` INT64, \\n\\t`P1175_02` INT64, \\n\\t`P1175_04` INT64, \\n\\t`P1175_05` INT64, \\n\\t`P1175_06` INT64, \\n\\t`P1175_07` INT64, \\n\\t`P1175_08` INT64, \\n\\t`P1175_09` INT64, \\n\\t`P1175_10` INT64, \\n\\t`P1175_11` INT64, \\n\\t`P1175_12` INT64, \\n\\t`P1175_13` INT64, \\n\\t`P1175_14` INT64, \\n\\t`P1175_15` INT64, \\n\\t`P1175_16` INT64, \\n\\t`P1175_17` INT64, \\n\\t`P117T2` INT64, \\n\\t`P117T3` INT64, \\n\\t`P117T4` INT64, \\n\\t`T110` INT64, \\n\\t`P200I` STRING, \\n\\t`P600I` STRING, \\n\\t`P600D1` STRING, \\n\\t`P600M1` STRING, \\n\\t`P600A1` STRING, \\n\\t`P600D2` STRING, \\n\\t`P600M2` STRING, \\n\\t`P600A2` STRING, \\n\\t`P612I1` INT64, \\n\\t`P612I11` INT64, \\n\\t`P612I2` INT64, \\n\\t`P612I22` INT64, \\n\\t`P700I` STRING, \\n\\t`P710I` STRING, \\n\\t`P800I` STRING, \\n\\t`P110I` STRING, \\n\\t`TICUEST01` INT64, \\n\\t`D105B` INT64, \\n\\t`D106` INT64, \\n\\t`D107D1` INT64, \\n\\t`D107D2` INT64, \\n\\t`D107D3` INT64, \\n\\t`D107D4` INT64, \\n\\t`D1172_01` INT64, \\n\\t`D1173_01` INT64, \\n\\t`D1174_01` INT64, \\n\\t`D1172_02` INT64, \\n\\t`D1173_02` INT64, \\n\\t`D1174_02` INT64, \\n\\t`D1172_04` INT64, \\n\\t`D1173_04` INT64, \\n\\t`D1174_04` INT64, \\n\\t`D1172_05` INT64, \\n\\t`D1173_05` INT64, \\n\\t`D1174_05` INT64, \\n\\t`D1172_06` INT64, \\n\\t`D1173_06` INT64, \\n\\t`D1174_06` INT64, \\n\\t`D1172_07` INT64, \\n\\t`D1173_07` INT64, \\n\\t`D1174_07` INT64, \\n\\t`D1172_08` INT64, \\n\\t`D1173_08` INT64, \\n\\t`D1174_08` INT64, \\n\\t`D1172_09` INT64, \\n\\t`D1173_09` INT64, \\n\\t`D1174_09` INT64, \\n\\t`D1172_10` INT64, \\n\\t`D1173_10` INT64, \\n\\t`D1174_10` INT64, \\n\\t`D1172_15` INT64, \\n\\t`D1173_15` INT64, \\n\\t`D1174_15` INT64, \\n\\t`D1172_16` INT64, \\n\\t`D1173_16` INT64, \\n\\t`D1174_16` INT64, \\n\\t`D612I11` INT64, \\n\\t`D1172_11` INT64, \\n\\t`D1173_11` INT64, \\n\\t`D1174_11` INT64, \\n\\t`D1172_12` INT64, \\n\\t`D1173_12` INT64, \\n\\t`D1174_12` INT64, \\n\\t`D1172_13` INT64, \\n\\t`D1173_13` INT64, \\n\\t`D1174_13` INT64, \\n\\t`D1172_14` INT64, \\n\\t`D1173_14` INT64, \\n\\t`D1174_14` INT64, \\n\\t`D1172_17` INT64, \\n\\t`D1173_17` INT64, \\n\\t`D1174_17` INT64, \\n\\t`D612I22` INT64, \\n\\t`I105B` FLOAT64, \\n\\t`I106` FLOAT64, \\n\\t`I1172_01` FLOAT64, \\n\\t`I1172_02` FLOAT64, \\n\\t`I1172_04` FLOAT64, \\n\\t`I1172_05` FLOAT64, \\n\\t`I1172_06` FLOAT64, \\n\\t`I1172_07` FLOAT64, \\n\\t`I1172_08` FLOAT64, \\n\\t`I1172_09` FLOAT64, \\n\\t`I1172_10` FLOAT64, \\n\\t`I1172_11` FLOAT64, \\n\\t`I1172_12` FLOAT64, \\n\\t`I1172_13` FLOAT64, \\n\\t`I1172_14` FLOAT64, \\n\\t`I1172_17` INT64, \\n\\t`I1172_15` FLOAT64, \\n\\t`I1172_16` FLOAT64, \\n\\t`I1173_01` INT64, \\n\\t`I1174_01` INT64, \\n\\t`I1173_02` INT64, \\n\\t`I1174_02` INT64, \\n\\t`I1173_04` INT64, \\n\\t`I1174_04` INT64, \\n\\t`I1173_05` INT64, \\n\\t`I1174_05` INT64, \\n\\t`I1173_06` INT64, \\n\\t`I1174_06` INT64, \\n\\t`I1173_07` INT64, \\n\\t`I1174_07` INT64, \\n\\t`I1173_08` INT64, \\n\\t`I1174_08` INT64, \\n\\t`I1173_09` INT64, \\n\\t`I1174_09` INT64, \\n\\t`I1173_10` INT64, \\n\\t`I1174_10` INT64, \\n\\t`I1173_11` INT64, \\n\\t`I1174_11` INT64, \\n\\t`I1173_12` INT64, \\n\\t`I1174_12` INT64, \\n\\t`I1173_13` INT64, \\n\\t`I1174_13` INT64, \\n\\t`I1173_14` INT64, \\n\\t`I1174_14` INT64, \\n\\t`I1173_15` INT64, \\n\\t`I1174_15` INT64, \\n\\t`I1173_16` INT64, \\n\\t`I1174_16` INT64, \\n\\t`I1173_17` INT64, \\n\\t`I1174_17` INT64, \\n\\t`T111A` INT64, \\n\\t`NBI1` INT64, \\n\\t`NBI2` INT64, \\n\\t`NBI3` INT64, \\n\\t`NBI4` INT64, \\n\\t`NBI5` INT64, \\n\\t`FACTOR07` FLOAT64, \\n\\t`NCONGLOME` STRING, \\n\\t`SUB_CONGLOME` STRING, \\n\\t`CODCCPP` STRING, \\n\\t`NOMCCPP` STRING, \\n\\t`LONGITUD` FLOAT64, \\n\\t`LATITUD` FLOAT64, \\n\\t`ALTITUD` FLOAT64\\n)\\n\\n/*\\n3 rows from ENAHO01-2024-100 table:\\nANO\\tMES\\tCONGLOME\\tVIVIENDA\\tHOGAR\\tUBIGEO\\tDOMINIO\\tESTRATO\\tPERIODO\\tTIPENC\\tFECENT\\tRESULT\\tPANEL\\tP22\\tP23\\tP24A\\tP24B\\tP25_1\\tP25_2\\tP25_3\\tP25_4\\tP25_5\\tP101\\tP102\\tP103\\tP103A\\tP104\\tP104A\\tP104B1\\tP104B2\\tP105A\\tP105B\\tP106\\tP106A\\tP106B\\tP107B1\\tP107C11\\tP107C12\\tP107C13\\tP107C14\\tP107C16\\tP107C17\\tP107C18\\tP107C19\\tP107C110\\tP107D1\\tP107B2\\tP107C21\\tP107C22\\tP107C23\\tP107C24\\tP107C26\\tP107C27\\tP107C28\\tP107C29\\tP107C210\\tP107D2\\tP107B3\\tP107C31\\tP107C32\\tP107C33\\tP107C34\\tP107C36\\tP107C37\\tP107C38\\tP107C39\\tP107C310\\tP107D3\\tP107B4\\tP107C41\\tP107C42\\tP107C43\\tP107C44\\tP107C46\\tP107C47\\tP107C48\\tP107C49\\tP107C410\\tP107D4\\tP107E\\tP110\\tP110A1\\tP110A\\tP110A_MODIFICADA\\tP110C\\tP110C1\\tP110C2\\tP110C3\\tP110D\\tP110E\\tP110F\\tP110G\\tP111A\\tP1121\\tP1123\\tP1124\\tP1125\\tP1126\\tP1127\\tP112A\\tP1131\\tP1132\\tP1133\\tP1135\\tP1136\\tP1139\\tP1137\\tP1138\\tP113A\\tP1141\\tP1142\\tP1143\\tP1144\\tP1145\\tP114B1\\tP114B2\\tP114B3\\tP1171_01\\tP1171_02\\tP1171_04\\tP1171_05\\tP1171_06\\tP1171_07\\tP1171_08\\tP1171_09\\tP1171_10\\tP1171_11\\tP1171_12\\tP1171_13\\tP1171_14\\tP1171_15\\tP1171_16\\tP1171_17\\tP1172_01\\tP1172_02\\tP1172_04\\tP1172_05\\tP1172_06\\tP1172_07\\tP1172_08\\tP1172_09\\tP1172_10\\tP1172_11\\tP1172_12\\tP1172_13\\tP1172_14\\tP1172_15\\tP1172_16\\tP1172_17\\tP1173_01\\tP1173_02\\tP1173_04\\tP1173_05\\tP1173_06\\tP1173_07\\tP1173_08\\tP1173_09\\tP1173_10\\tP1173_11\\tP1173_12\\tP1173_13\\tP1173_14\\tP1173_15\\tP1173_16\\tP1173_17\\tP1174_01\\tP1174_02\\tP1174_04\\tP1174_05\\tP1174_06\\tP1174_07\\tP1174_08\\tP1174_09\\tP1174_10\\tP1174_11\\tP1174_12\\tP1174_13\\tP1174_14\\tP1174_15\\tP1174_16\\tP1174_17\\tP1175_01\\tP1175_02\\tP1175_04\\tP1175_05\\tP1175_06\\tP1175_07\\tP1175_08\\tP1175_09\\tP1175_10\\tP1175_11\\tP1175_12\\tP1175_13\\tP1175_14\\tP1175_15\\tP1175_16\\tP1175_17\\tP117T2\\tP117T3\\tP117T4\\tT110\\tP200I\\tP600I\\tP600D1\\tP600M1\\tP600A1\\tP600D2\\tP600M2\\tP600A2\\tP612I1\\tP612I11\\tP612I2\\tP612I22\\tP700I\\tP710I\\tP800I\\tP110I\\tTICUEST01\\tD105B\\tD106\\tD107D1\\tD107D2\\tD107D3\\tD107D4\\tD1172_01\\tD1173_01\\tD1174_01\\tD1172_02\\tD1173_02\\tD1174_02\\tD1172_04\\tD1173_04\\tD1174_04\\tD1172_05\\tD1173_05\\tD1174_05\\tD1172_06\\tD1173_06\\tD1174_06\\tD1172_07\\tD1173_07\\tD1174_07\\tD1172_08\\tD1173_08\\tD1174_08\\tD1172_09\\tD1173_09\\tD1174_09\\tD1172_10\\tD1173_10\\tD1174_10\\tD1172_15\\tD1173_15\\tD1174_15\\tD1172_16\\tD1173_16\\tD1174_16\\tD612I11\\tD1172_11\\tD1173_11\\tD1174_11\\tD1172_12\\tD1173_12\\tD1174_12\\tD1172_13\\tD1173_13\\tD1174_13\\tD1172_14\\tD1173_14\\tD1174_14\\tD1172_17\\tD1173_17\\tD1174_17\\tD612I22\\tI105B\\tI106\\tI1172_01\\tI1172_02\\tI1172_04\\tI1172_05\\tI1172_06\\tI1172_07\\tI1172_08\\tI1172_09\\tI1172_10\\tI1172_11\\tI1172_12\\tI1172_13\\tI1172_14\\tI1172_17\\tI1172_15\\tI1172_16\\tI1173_01\\tI1174_01\\tI1173_02\\tI1174_02\\tI1173_04\\tI1174_04\\tI1173_05\\tI1174_05\\tI1173_06\\tI1174_06\\tI1173_07\\tI1174_07\\tI1173_08\\tI1174_08\\tI1173_09\\tI1174_09\\tI1173_10\\tI1174_10\\tI1173_11\\tI1174_11\\tI1173_12\\tI1174_12\\tI1173_13\\tI1174_13\\tI1173_14\\tI1174_14\\tI1173_15\\tI1174_15\\tI1173_16\\tI1174_16\\tI1173_17\\tI1174_17\\tT111A\\tNBI1\\tNBI2\\tNBI3\\tNBI4\\tNBI5\\tFACTOR07\\tNCONGLOME\\tSUB_CONGLOME\\tCODCCPP\\tNOMCCPP\\tLONGITUD\\tLATITUD\\tALTITUD\\n2024\\t01\\t015009\\t022\\t11\\t010101\\t4\\t4\\t1\\t1\\t20240124\\t3\\tNone\\tNone\\tNone\\tNone\\tNone\\tNone\\tNone\\tNone\\tNone\\tNone\\tNone\\tNone\\tNone\\tNone\\tNone\\tNone\\tNone\\tNone\\tNone\\tNone\\tNone\\tNone\\tNone\\tNone\\tNone\\tNone\\tNone\\tNone\\tNone\\tNone\\tNone\\tNone\\tNone\\tNone\\tNone\\tNone\\tNone\\tNone\\tNone\\tNone\\tNone\\tNone\\tNone\\tNone\\tNone\\tNone\\tNone\\tNone\\tNone\\tNone\\tNone\\tNone\\tNone\\tNone\\tNone\\tNone\\tNone\\tNone\\tNone\\tNone\\tNone\\tNone\\tNone\\tNone\\tNone\\tNone\\tNone\\tNone\\tNone\\tNone\\tNone\\tNone\\tNone\\tNone\\tNone\\tNone\\tNone\\tNone\\tNone\\tNone\\tNone\\tNone\\tNone\\tNone\\tNone\\tNone\\tNone\\tNone\\tNone\\tNone\\tNone\\tNone\\tNone\\tNone\\tNone\\tNone\\tNone\\tNone\\tNone\\tNone\\tNone\\tNone\\tNone\\tNone\\tNone\\tNone\\tNone\\tNone\\tNone\\tNone\\tNone\\tNone\\tNone\\tNone\\tNone\\tNone\\tNone\\tNone\\tNone\\tNone\\tNone\\tNone\\tNone\\tNone\\tNone\\tNone\\tNone\\tNone\\tNone\\tNone\\tNone\\tNone\\tNone\\tNone\\tNone\\tNone\\tNone\\tNone\\tNone\\tNone\\tNone\\tNone\\tNone\\tNone\\tNone\\tNone\\tNone\\tNone\\tNone\\tNone\\tNone\\tNone\\tNone\\tNone\\tNone\\tNone\\tNone\\tNone\\tNone\\tNone\\tNone\\tNone\\tNone\\tNone\\tNone\\tNone\\tNone\\tNone\\tNone\\t0\\t0\\t0\\t0\\t0\\t0\\t0\\t0\\t0\\t0\\t0\\t0\\t0\\t0\\t0\\t0\\tNone\\tNone\\tNone\\tNone\\tNone\\tNone\\tNone\\tNone\\tNone\\tNone\\tNone\\tNone\\tNone\\tNone\\tNone\\tNone\\tNone\\tNone\\tNone\\tNone\\tNone\\tNone\\tNone\\tNone\\tNone\\tNone\\tNone\\tNone\\tNone\\tNone\\tNone\\tNone\\tNone\\tNone\\tNone\\tNone\\tNone\\tNone\\tNone\\tNone\\tNone\\tNone\\tNone\\tNone\\tNone\\tNone\\tNone\\tNone\\tNone\\tNone\\tNone\\tNone\\tNone\\tNone\\tNone\\tNone\\tNone\\tNone\\tNone\\tNone\\tNone\\tNone\\tNone\\tNone\\tNone\\tNone\\tNone\\tNone\\tNone\\tNone\\tNone\\tNone\\tNone\\tNone\\tNone\\tNone\\tNone\\tNone\\tNone\\tNone\\tNone\\tNone\\tNone\\tNone\\tNone\\tNone\\tNone\\tNone\\tNone\\tNone\\tNone\\tNone\\tNone\\tNone\\tNone\\tNone\\tNone\\tNone\\tNone\\tNone\\tNone\\tNone\\tNone\\tNone\\tNone\\tNone\\tNone\\tNone\\tNone\\tNone\\tNone\\tNone\\tNone\\tNone\\tNone\\tNone\\tNone\\tNone\\tNone\\tNone\\tNone\\tNone\\tNone\\tNone\\tNone\\tNone\\tNone\\tNone\\tNone\\tNone\\tNone\\tNone\\tNone\\t79.81675720214844\\t07098\\t00\\t0001\\tCIUDAD CHACHAPOYAS\\t-77.86923217773438\\t-6.234386920928955\\t2350.55712890625\\n2024\\t01\\t015024\\t011\\t11\\t010101\\t4\\t4\\t1\\t1\\t20240116\\t7\\tNone\\tNone\\tNone\\tNone\\tNone\\tNone\\tNone\\tNone\\tNone\\tNone\\tNone\\tNone\\tNone\\tNone\\tNone\\tNone\\tNone\\tNone\\tNone\\tNone\\tNone\\tNone\\tNone\\tNone\\tNone\\tNone\\tNone\\tNone\\tNone\\tNone\\tNone\\tNone\\tNone\\tNone\\tNone\\tNone\\tNone\\tNone\\tNone\\tNone\\tNone\\tNone\\tNone\\tNone\\tNone\\tNone\\tNone\\tNone\\tNone\\tNone\\tNone\\tNone\\tNone\\tNone\\tNone\\tNone\\tNone\\tNone\\tNone\\tNone\\tNone\\tNone\\tNone\\tNone\\tNone\\tNone\\tNone\\tNone\\tNone\\tNone\\tNone\\tNone\\tNone\\tNone\\tNone\\tNone\\tNone\\tNone\\tNone\\tNone\\tNone\\tNone\\tNone\\tNone\\tNone\\tNone\\tNone\\tNone\\tNone\\tNone\\tNone\\tNone\\tNone\\tNone\\tNone\\tNone\\tNone\\tNone\\tNone\\tNone\\tNone\\tNone\\tNone\\tNone\\tNone\\tNone\\tNone\\tNone\\tNone\\tNone\\tNone\\tNone\\tNone\\tNone\\tNone\\tNone\\tNone\\tNone\\tNone\\tNone\\tNone\\tNone\\tNone\\tNone\\tNone\\tNone\\tNone\\tNone\\tNone\\tNone\\tNone\\tNone\\tNone\\tNone\\tNone\\tNone\\tNone\\tNone\\tNone\\tNone\\tNone\\tNone\\tNone\\tNone\\tNone\\tNone\\tNone\\tNone\\tNone\\tNone\\tNone\\tNone\\tNone\\tNone\\tNone\\tNone\\tNone\\tNone\\tNone\\tNone\\tNone\\tNone\\tNone\\tNone\\tNone\\tNone\\tNone\\tNone\\tNone\\t0\\t0\\t0\\t0\\t0\\t0\\t0\\t0\\t0\\t0\\t0\\t0\\t0\\t0\\t0\\t0\\tNone\\tNone\\tNone\\tNone\\tNone\\tNone\\tNone\\tNone\\tNone\\tNone\\tNone\\tNone\\tNone\\tNone\\tNone\\tNone\\tNone\\tNone\\tNone\\tNone\\t2\\tNone\\tNone\\tNone\\tNone\\tNone\\tNone\\tNone\\tNone\\tNone\\tNone\\tNone\\tNone\\tNone\\tNone\\tNone\\tNone\\tNone\\tNone\\tNone\\tNone\\tNone\\tNone\\tNone\\tNone\\tNone\\tNone\\tNone\\tNone\\tNone\\tNone\\tNone\\tNone\\tNone\\tNone\\tNone\\tNone\\tNone\\tNone\\tNone\\tNone\\tNone\\tNone\\tNone\\tNone\\tNone\\tNone\\tNone\\tNone\\tNone\\tNone\\tNone\\tNone\\tNone\\tNone\\tNone\\tNone\\tNone\\tNone\\tNone\\tNone\\tNone\\tNone\\tNone\\tNone\\tNone\\tNone\\tNone\\tNone\\tNone\\tNone\\tNone\\tNone\\tNone\\tNone\\tNone\\tNone\\tNone\\tNone\\tNone\\tNone\\tNone\\tNone\\tNone\\tNone\\tNone\\tNone\\tNone\\tNone\\tNone\\tNone\\tNone\\tNone\\tNone\\tNone\\tNone\\tNone\\tNone\\tNone\\tNone\\tNone\\tNone\\tNone\\tNone\\tNone\\tNone\\tNone\\tNone\\tNone\\tNone\\tNone\\tNone\\tNone\\t263.8216857910156\\t07073\\t01\\t0001\\tASENTAMIENTO HUMANO PEDRO CASTRO ALVA\\t-77.86624908447266\\t-6.219789028167725\\t2365.032470703125\\n2024\\t01\\t015024\\t054\\t11\\t010101\\t4\\t4\\t1\\t1\\t20240116\\t7\\tNone\\tNone\\tNone\\tNone\\tNone\\tNone\\tNone\\tNone\\tNone\\tNone\\tNone\\tNone\\tNone\\tNone\\tNone\\tNone\\tNone\\tNone\\tNone\\tNone\\tNone\\tNone\\tNone\\tNone\\tNone\\tNone\\tNone\\tNone\\tNone\\tNone\\tNone\\tNone\\tNone\\tNone\\tNone\\tNone\\tNone\\tNone\\tNone\\tNone\\tNone\\tNone\\tNone\\tNone\\tNone\\tNone\\tNone\\tNone\\tNone\\tNone\\tNone\\tNone\\tNone\\tNone\\tNone\\tNone\\tNone\\tNone\\tNone\\tNone\\tNone\\tNone\\tNone\\tNone\\tNone\\tNone\\tNone\\tNone\\tNone\\tNone\\tNone\\tNone\\tNone\\tNone\\tNone\\tNone\\tNone\\tNone\\tNone\\tNone\\tNone\\tNone\\tNone\\tNone\\tNone\\tNone\\tNone\\tNone\\tNone\\tNone\\tNone\\tNone\\tNone\\tNone\\tNone\\tNone\\tNone\\tNone\\tNone\\tNone\\tNone\\tNone\\tNone\\tNone\\tNone\\tNone\\tNone\\tNone\\tNone\\tNone\\tNone\\tNone\\tNone\\tNone\\tNone\\tNone\\tNone\\tNone\\tNone\\tNone\\tNone\\tNone\\tNone\\tNone\\tNone\\tNone\\tNone\\tNone\\tNone\\tNone\\tNone\\tNone\\tNone\\tNone\\tNone\\tNone\\tNone\\tNone\\tNone\\tNone\\tNone\\tNone\\tNone\\tNone\\tNone\\tNone\\tNone\\tNone\\tNone\\tNone\\tNone\\tNone\\tNone\\tNone\\tNone\\tNone\\tNone\\tNone\\tNone\\tNone\\tNone\\tNone\\tNone\\tNone\\tNone\\tNone\\tNone\\tNone\\tNone\\t0\\t0\\t0\\t0\\t0\\t0\\t0\\t0\\t0\\t0\\t0\\t0\\t0\\t0\\t0\\t0\\tNone\\tNone\\tNone\\tNone\\tNone\\tNone\\tNone\\tNone\\tNone\\tNone\\tNone\\tNone\\tNone\\tNone\\tNone\\tNone\\tNone\\tNone\\tNone\\tNone\\t2\\tNone\\tNone\\tNone\\tNone\\tNone\\tNone\\tNone\\tNone\\tNone\\tNone\\tNone\\tNone\\tNone\\tNone\\tNone\\tNone\\tNone\\tNone\\tNone\\tNone\\tNone\\tNone\\tNone\\tNone\\tNone\\tNone\\tNone\\tNone\\tNone\\tNone\\tNone\\tNone\\tNone\\tNone\\tNone\\tNone\\tNone\\tNone\\tNone\\tNone\\tNone\\tNone\\tNone\\tNone\\tNone\\tNone\\tNone\\tNone\\tNone\\tNone\\tNone\\tNone\\tNone\\tNone\\tNone\\tNone\\tNone\\tNone\\tNone\\tNone\\tNone\\tNone\\tNone\\tNone\\tNone\\tNone\\tNone\\tNone\\tNone\\tNone\\tNone\\tNone\\tNone\\tNone\\tNone\\tNone\\tNone\\tNone\\tNone\\tNone\\tNone\\tNone\\tNone\\tNone\\tNone\\tNone\\tNone\\tNone\\tNone\\tNone\\tNone\\tNone\\tNone\\tNone\\tNone\\tNone\\tNone\\tNone\\tNone\\tNone\\tNone\\tNone\\tNone\\tNone\\tNone\\tNone\\tNone\\tNone\\tNone\\tNone\\tNone\\tNone\\t263.8216857910156\\t07073\\t01\\t0001\\tASENTAMIENTO HUMANO PEDRO CASTRO ALVA\\t-77.86624908447266\\t-6.219789028167725\\t2365.032470703125\\n*/'"
      ]
     },
     "execution_count": 23,
     "metadata": {},
     "output_type": "execute_result"
    }
   ],
   "source": [
    "sql_tools[0].invoke(\"ENAHO01-2024-100\")"
   ]
  }
 ],
 "metadata": {
  "kernelspec": {
   "display_name": "equilibrium-sql-multiagent",
   "language": "python",
   "name": "python3"
  },
  "language_info": {
   "codemirror_mode": {
    "name": "ipython",
    "version": 3
   },
   "file_extension": ".py",
   "mimetype": "text/x-python",
   "name": "python",
   "nbconvert_exporter": "python",
   "pygments_lexer": "ipython3",
   "version": "3.13.7"
  }
 },
 "nbformat": 4,
 "nbformat_minor": 5
}
