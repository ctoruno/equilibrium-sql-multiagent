{
 "cells": [
  {
   "cell_type": "code",
   "execution_count": 1,
   "id": "64cdba40",
   "metadata": {},
   "outputs": [],
   "source": [
    "from google import genai\n",
    "from google.genai import types"
   ]
  },
  {
   "cell_type": "code",
   "execution_count": 2,
   "id": "3c4cd1a7",
   "metadata": {},
   "outputs": [],
   "source": [
    "client = genai.Client(\n",
    "  vertexai=True, project=\"cosmic-abbey-470621-f6\", location=\"us-east1\",\n",
    ")"
   ]
  },
  {
   "cell_type": "code",
   "execution_count": 4,
   "id": "bf996e51",
   "metadata": {},
   "outputs": [
    {
     "name": "stdout",
     "output_type": "stream",
     "text": [
      "Hello there! How can I help you today?"
     ]
    }
   ],
   "source": [
    "model = \"gemini-2.5-pro\"\n",
    "response = client.models.generate_content(\n",
    "  model=model,\n",
    "  contents=[\n",
    "    \"Hi there\"\n",
    "  ],\n",
    ")\n",
    "print(response.text, end=\"\")"
   ]
  }
 ],
 "metadata": {
  "kernelspec": {
   "display_name": "equilibrium-sql-multiagent",
   "language": "python",
   "name": "python3"
  },
  "language_info": {
   "codemirror_mode": {
    "name": "ipython",
    "version": 3
   },
   "file_extension": ".py",
   "mimetype": "text/x-python",
   "name": "python",
   "nbconvert_exporter": "python",
   "pygments_lexer": "ipython3",
   "version": "3.13.7"
  }
 },
 "nbformat": 4,
 "nbformat_minor": 5
}
