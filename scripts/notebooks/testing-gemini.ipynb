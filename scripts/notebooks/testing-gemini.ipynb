{
 "cells": [
  {
   "cell_type": "code",
   "execution_count": 1,
   "id": "64cdba40",
   "metadata": {},
   "outputs": [],
   "source": [
    "import json\n",
    "import PyPDF2\n",
    "from google import genai"
   ]
  },
  {
   "cell_type": "code",
   "execution_count": 22,
   "id": "3c4cd1a7",
   "metadata": {},
   "outputs": [],
   "source": [
    "file_name = \"Enaho01A-2024-500-7\"\n",
    "pdf_path = f\"/Users/carlostoruno/Desktop/{file_name}.pdf\"\n",
    "with open(pdf_path, \"rb\") as file:\n",
    "    pdf_reader = PyPDF2.PdfReader(file)\n",
    "    pdf_text = \"\"\n",
    "    for page in pdf_reader.pages:\n",
    "        pdf_text += page.extract_text()"
   ]
  },
  {
   "cell_type": "code",
   "execution_count": 3,
   "id": "6a575f5e",
   "metadata": {},
   "outputs": [],
   "source": [
    "client = genai.Client(\n",
    "    vertexai=True, \n",
    "    project=\"cosmic-abbey-470621-f6\", \n",
    "    location=\"us-east1\"\n",
    ")"
   ]
  },
  {
   "cell_type": "code",
   "execution_count": null,
   "id": "861dc2b0",
   "metadata": {},
   "outputs": [],
   "source": [
    "prompt = \"\"\"\n",
    "I'm going to pass you a few PDF documents, I will need you to convert the information to a JSON file. \n",
    "Please parse the information describing the content of a table in a database following this example:\n",
    "{\n",
    "\"tables\": {\n",
    "\"ENAHO01-2024-100\": {\n",
    "\"metadata\": {\n",
    "\"description\": \"Características de la Vivienda y del Hogar (Módulo 100)\",\n",
    "\"file_name\": \"ENAHO01-2024-100\",\n",
    "\"business_domain\": [\"housing\", \"demographics\", \"geographic\"],\n",
    "\"record_level\": \"household\",\n",
    "\"module_number\": \"100\"\n",
    "},\n",
    "\"columns\": {\n",
    "\"AÑO\": {\n",
    "\"description\": \"Año de la Encuesta\",\n",
    "\"data_type\": \"CHARACTER\",\n",
    "\"size\": 4,\n",
    "\"decimals\": 0,\n",
    "\"business_meaning\": \"Survey year identifier\"\n",
    "},\n",
    "\"DOMINIO\": {\n",
    "\"description\": \"Dominio Geográfico\",\n",
    "\"data_type\": \"NUMERIC\",\n",
    "\"size\": 1,\n",
    "\"decimals\": 0,\n",
    "\"valid_values\": {\n",
    "\"1\": \"Costa Norte\",\n",
    "\"2\": \"Costa Centro\",\n",
    "\"3\": \"Costa Sur\",\n",
    "\"4\": \"Sierra Norte\",\n",
    "\"5\": \"Sierra Centro\",\n",
    "\"6\": \"Sierra Sur\",\n",
    "\"7\": \"Selva\",\n",
    "\"8\": \"Lima Metropolitana\"\n",
    "},\n",
    "\"range\": \"1-8\",\n",
    "\"business_meaning\": \"Geographic domain classification\"\n",
    "},\n",
    "\"P101\": {\n",
    "\"description\": \"Tipo de vivienda\",\n",
    "\"data_type\": \"NUMERIC\",\n",
    "\"size\": 1,\n",
    "\"decimals\": 0,\n",
    "\"valid_values\": {\n",
    "\"1\": \"Casa independiente\",\n",
    "\"2\": \"Departamento en edificio\",\n",
    "\"3\": \"Vivienda en quinta\",\n",
    "\"4\": \"Vivienda en casa de vecindad (Callejón, solar o corralón)\",\n",
    "\"5\": \"Choza o cabaña\",\n",
    "\"6\": \"Vivienda improvisada\",\n",
    "\"7\": \"Local no destinado para habitación humana\",\n",
    "\"8\": \"Otro\"\n",
    "},\n",
    "\"range\": \"1-8\",\n",
    "\"business_meaning\": \"Housing type classification\"\n",
    "}\n",
    "}\n",
    "}\n",
    "}\n",
    "}\n",
    "The text is in Spanish. Please analyze the PDF content and structure it according to this JSON format.\n",
    "Return only valid JSON without any additional text or markdown formatting.\n",
    "\n",
    "Please parse ALL the information available, do not summarize or skip any piece of information.\"\"\""
   ]
  },
  {
   "cell_type": "code",
   "execution_count": 23,
   "id": "1f5913a8",
   "metadata": {},
   "outputs": [],
   "source": [
    "response = client.models.generate_content(\n",
    "    model=\"gemini-2.5-pro\",\n",
    "    contents=[f\"{prompt}\\n\\nPDF Content:\\n{pdf_text}\"]\n",
    ")"
   ]
  },
  {
   "cell_type": "code",
   "execution_count": 24,
   "id": "56f493e8",
   "metadata": {},
   "outputs": [
    {
     "name": "stdout",
     "output_type": "stream",
     "text": [
      "Done! Check result.json\n"
     ]
    }
   ],
   "source": [
    "with open(f\"/Users/carlostoruno/Desktop/{file_name}.json\", \"w\", encoding=\"utf-8\") as f:\n",
    "    f.write(response.text)\n",
    "\n",
    "print(\"Done! Check result.json\")"
   ]
  }
 ],
 "metadata": {
  "kernelspec": {
   "display_name": "esma",
   "language": "python",
   "name": "python3"
  },
  "language_info": {
   "codemirror_mode": {
    "name": "ipython",
    "version": 3
   },
   "file_extension": ".py",
   "mimetype": "text/x-python",
   "name": "python",
   "nbconvert_exporter": "python",
   "pygments_lexer": "ipython3",
   "version": "3.13.7"
  }
 },
 "nbformat": 4,
 "nbformat_minor": 5
}
