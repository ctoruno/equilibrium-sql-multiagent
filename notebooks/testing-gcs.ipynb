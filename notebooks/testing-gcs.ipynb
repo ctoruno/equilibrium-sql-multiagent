{
 "cells": [
  {
   "cell_type": "code",
   "execution_count": 1,
   "id": "3ab9d1ee",
   "metadata": {},
   "outputs": [
    {
     "data": {
      "text/plain": [
       "True"
      ]
     },
     "execution_count": 1,
     "metadata": {},
     "output_type": "execute_result"
    }
   ],
   "source": [
    "import os\n",
    "from google.cloud import storage\n",
    "from dotenv import load_dotenv\n",
    "\n",
    "load_dotenv()"
   ]
  },
  {
   "cell_type": "code",
   "execution_count": 2,
   "id": "2d690bb9",
   "metadata": {},
   "outputs": [
    {
     "name": "stdout",
     "output_type": "stream",
     "text": [
      "sql-multiagent-enaho-2024\n",
      "sql-multiagent-geih-2024\n"
     ]
    }
   ],
   "source": [
    "gcs_client = storage.Client()\n",
    "buckets = gcs_client.list_buckets()\n",
    "for bucket in buckets:\n",
    "    print(bucket.name)"
   ]
  },
  {
   "cell_type": "code",
   "execution_count": 5,
   "id": "f3b8a760",
   "metadata": {},
   "outputs": [
    {
     "data": {
      "text/plain": [
       "['dictionaries/Enaho01-2024-100.pdf',\n",
       " 'dictionaries/Enaho01-2024-200.pdf',\n",
       " 'dictionaries/Enaho01-2024-601.pdf',\n",
       " 'dictionaries/Enaho01-2024-603.pdf',\n",
       " 'dictionaries/Enaho01-2024-604.pdf',\n",
       " 'dictionaries/Enaho01-2024-605.pdf',\n",
       " 'dictionaries/Enaho01-2024-609.pdf',\n",
       " 'dictionaries/Enaho01-2024-612.pdf',\n",
       " 'dictionaries/Enaho01A-2024-300.pdf',\n",
       " 'dictionaries/Enaho01A-2024-400.pdf',\n",
       " 'dictionaries/Enaho01A-2024-500.pdf']"
      ]
     },
     "execution_count": 5,
     "metadata": {},
     "output_type": "execute_result"
    }
   ],
   "source": [
    "bucket = gcs_client.bucket(\"sql-multiagent-enaho-2024\")\n",
    "blobs = bucket.list_blobs()\n",
    "pdf_files = []\n",
    "for blob in blobs:\n",
    "    if blob.name.lower().endswith('.pdf'):\n",
    "        pdf_files.append(blob.name)\n",
    "pdf_files"
   ]
  },
  {
   "cell_type": "code",
   "execution_count": null,
   "id": "c73ff391",
   "metadata": {},
   "outputs": [],
   "source": [
    "from google.cloud import bigquery\n",
    "import os\n",
    "\n",
    "client = bigquery.Client()\n",
    "datasets = list(client.list_datasets())\n",
    "print(f\"Datasets in project: {[d.dataset_id for d in datasets]}\")"
   ]
  }
 ],
 "metadata": {
  "kernelspec": {
   "display_name": "equilibrium-sql-multiagent",
   "language": "python",
   "name": "python3"
  },
  "language_info": {
   "codemirror_mode": {
    "name": "ipython",
    "version": 3
   },
   "file_extension": ".py",
   "mimetype": "text/x-python",
   "name": "python",
   "nbconvert_exporter": "python",
   "pygments_lexer": "ipython3",
   "version": "3.13.7"
  }
 },
 "nbformat": 4,
 "nbformat_minor": 5
}
